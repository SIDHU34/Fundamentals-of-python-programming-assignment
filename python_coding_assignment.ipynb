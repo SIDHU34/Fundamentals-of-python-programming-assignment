{
 "cells": [
  {
   "cell_type": "code",
   "execution_count": null,
   "id": "6a17b23e-eb6c-4e49-9fbf-bc236b991fc9",
   "metadata": {},
   "outputs": [],
   "source": [
    "FUNDAMENTALS OF PYTHON PROGRAMMING ASSIGNMENT"
   ]
  },
  {
   "cell_type": "code",
   "execution_count": null,
   "id": "de0b8743-59cb-476c-9477-e2df374bd8da",
   "metadata": {},
   "outputs": [],
   "source": [
    "The Below down is my pyhton project which includes all the 3 sections and 15 questions and answers"
   ]
  },
  {
   "cell_type": "code",
   "execution_count": null,
   "id": "a1fc8029-8f2d-4b34-81fb-9173e34755c7",
   "metadata": {},
   "outputs": [],
   "source": [
    "Section 1:Python Operators and Control Structures"
   ]
  },
  {
   "cell_type": "code",
   "execution_count": null,
   "id": "69d9c212-892a-4ad3-8109-8ce38c078233",
   "metadata": {},
   "outputs": [],
   "source": [
    "Question 1: Calculate the sum of all numbers in a list using a for loop.\n",
    "Sample Input:numbers = [1, 2, 3, 4, 5]  \n",
    "Sample Output:15"
   ]
  },
  {
   "cell_type": "code",
   "execution_count": 1,
   "id": "954d9164-3f14-46c7-b6b4-ccc5e7c0cfea",
   "metadata": {},
   "outputs": [
    {
     "name": "stdout",
     "output_type": "stream",
     "text": [
      "15\n"
     ]
    }
   ],
   "source": [
    "numbers = [1, 2, 3, 4, 5]\n",
    "total = 0\n",
    "for num in numbers:\n",
    "    total += num\n",
    "print(total)"
   ]
  },
  {
   "cell_type": "code",
   "execution_count": null,
   "id": "0264c8ce-29ef-412a-94a2-ccab01731888",
   "metadata": {},
   "outputs": [],
   "source": [
    "This program initializes `total` to 0, then iterates through each number in the list and adds it to `total`. Finally, the sum is printed."
   ]
  },
  {
   "cell_type": "code",
   "execution_count": null,
   "id": "a2cafb08-b8ef-4a1e-b861-2fcda549b6be",
   "metadata": {},
   "outputs": [],
   "source": []
  },
  {
   "cell_type": "code",
   "execution_count": null,
   "id": "eb09ee9a-aa59-4f57-b01a-d59269bb45a4",
   "metadata": {},
   "outputs": [],
   "source": [
    "Question 2:What is the output of the following code?\n",
    "Code:\n",
    "\n",
    "x = 5\n",
    "y = 2\n",
    "print(x ** y)\n",
    "Sample Output: 25"
   ]
  },
  {
   "cell_type": "code",
   "execution_count": 2,
   "id": "6329b486-1d8b-43dd-8199-fb2a7a204427",
   "metadata": {},
   "outputs": [
    {
     "name": "stdout",
     "output_type": "stream",
     "text": [
      "25\n"
     ]
    }
   ],
   "source": [
    "x = 5\n",
    "y = 2\n",
    "print(x ** y)\n"
   ]
  },
  {
   "cell_type": "code",
   "execution_count": null,
   "id": "6c928f3c-e12c-4944-b721-2dc5fc02fe64",
   "metadata": {},
   "outputs": [],
   "source": [
    "The ** operator in Python is the exponentiation operator, which raises x to the power of y.\n",
    "5*5=25"
   ]
  },
  {
   "cell_type": "code",
   "execution_count": null,
   "id": "77105512-703e-4865-97f7-f66f8ad36c46",
   "metadata": {},
   "outputs": [],
   "source": []
  },
  {
   "cell_type": "code",
   "execution_count": null,
   "id": "b12832b4-44af-4b70-86c3-ecff17b8a010",
   "metadata": {},
   "outputs": [],
   "source": [
    "Question 3:Write a Python program to check if a number is a palindrome using a while loop.\n",
    "\n",
    "Sample Input: num = 12321\n",
    "Sample Output: True"
   ]
  },
  {
   "cell_type": "code",
   "execution_count": 3,
   "id": "68da608c-0b3c-42a4-a902-086f12b1f7fb",
   "metadata": {},
   "outputs": [
    {
     "name": "stdout",
     "output_type": "stream",
     "text": [
      "True\n"
     ]
    }
   ],
   "source": [
    "def is_palindrome(num):\n",
    "    original_num = num  \n",
    "    reversed_num = 0  \n",
    "\n",
    "    while num > 0:\n",
    "        digit = num % 10  \n",
    "        reversed_num = reversed_num * 10 + digit  \n",
    "        num = num // 10  \n",
    "\n",
    "    return original_num == reversed_num \n",
    "\n",
    "num = 12321\n",
    "\n",
    "print(is_palindrome(num))  \n"
   ]
  },
  {
   "cell_type": "code",
   "execution_count": null,
   "id": "66083fa3-cdd3-4316-92e0-c836b0b82364",
   "metadata": {},
   "outputs": [],
   "source": [
    "A palindrome number is a number that reads the same forward and backward. \n",
    "\n",
    "For example:\n",
    "- 12321 -> Palindrome  \n",
    "- 12345 -> Not a Palindrome  "
   ]
  },
  {
   "cell_type": "code",
   "execution_count": null,
   "id": "36325aad-e9e7-4e00-93a4-0def2fe287e5",
   "metadata": {},
   "outputs": [],
   "source": []
  },
  {
   "cell_type": "code",
   "execution_count": null,
   "id": "aff61c91-0867-424c-8821-b8f4e06a6a6e",
   "metadata": {},
   "outputs": [],
   "source": [
    "Question 4: What is the output of the following code?\n",
    "\n",
    "Code:\n",
    "\n",
    "fruits = ['apple', 'banana', 'cherry']\n",
    "print(fruits[-1])\n",
    "Sample Output: cherry"
   ]
  },
  {
   "cell_type": "code",
   "execution_count": 4,
   "id": "4dc3fc46-7c06-4b84-b290-db386f788d3c",
   "metadata": {},
   "outputs": [
    {
     "name": "stdout",
     "output_type": "stream",
     "text": [
      "cherry\n"
     ]
    }
   ],
   "source": [
    "fruits = ['apple', 'banana', 'cherry']\n",
    "print(fruits[-1])"
   ]
  },
  {
   "cell_type": "code",
   "execution_count": null,
   "id": "940261de-1f0d-4a64-9543-079a55f36da2",
   "metadata": {},
   "outputs": [],
   "source": [
    "In Python, negative indexing allows us to access elements from the end of a list.\n",
    "fruits[-1] means \"the last element of the list.\""
   ]
  },
  {
   "cell_type": "code",
   "execution_count": null,
   "id": "5b697b52-1892-48dc-9b18-ed1259393dce",
   "metadata": {},
   "outputs": [],
   "source": []
  },
  {
   "cell_type": "code",
   "execution_count": null,
   "id": "566d19b3-3191-4d7f-b480-b7eaff15e8a3",
   "metadata": {},
   "outputs": [],
   "source": [
    "Question 5:Question: Write a Python program to calculate the average of all numbers in a list using a for loop.\n",
    "\n",
    "Sample Input: numbers = [1, 2, 3, 4, 5]\n",
    " Sample Output: 3.0"
   ]
  },
  {
   "cell_type": "code",
   "execution_count": 5,
   "id": "f20fd2af-6ace-49f6-a951-353b5545f50d",
   "metadata": {},
   "outputs": [
    {
     "name": "stdout",
     "output_type": "stream",
     "text": [
      "3.0\n"
     ]
    }
   ],
   "source": [
    "numbers = [1, 2, 3, 4, 5]\n",
    "\n",
    "total_sum = 0\n",
    "\n",
    "for num in numbers:\n",
    "    total_sum += num  \n",
    "\n",
    "average = total_sum / len(numbers)\n",
    "\n",
    "print(average)  "
   ]
  },
  {
   "cell_type": "code",
   "execution_count": null,
   "id": "853bbedd-fec8-425b-ba76-5cb5779cf0f0",
   "metadata": {},
   "outputs": [],
   "source": [
    "Initialize Variables:\n",
    "\n",
    "total_sum = 0: Stores the sum of numbers.\n",
    "numbers = [1, 2, 3, 4, 5].\n",
    "Loop Through the List:\n",
    "\n",
    "Using a for loop, each number in numbers is added to total_sum:\n",
    "ini\n",
    "Copy code\n",
    "total_sum = 1 + 2 + 3 + 4 + 5 = 15\n",
    "Calculate the Average:\n",
    "\n",
    "Divide total_sum by the number of elements in the list:\n",
    "ini\n",
    "Copy code\n",
    "average = 15 / 5 = 3.0\n",
    "Print the Result:\n",
    "\n",
    "The final output is 3.0, which is the correct average."
   ]
  },
  {
   "cell_type": "code",
   "execution_count": null,
   "id": "aa3c95a9-72f9-484c-be00-c180a995378d",
   "metadata": {},
   "outputs": [],
   "source": []
  },
  {
   "cell_type": "code",
   "execution_count": null,
   "id": "45f987c3-12a2-4824-9909-5b3c0b2d1eb9",
   "metadata": {},
   "outputs": [],
   "source": [
    "Section 2: Lists and Dictionaries"
   ]
  },
  {
   "cell_type": "code",
   "execution_count": null,
   "id": "c572ebe2-0463-4199-a383-2f2863f0ad46",
   "metadata": {},
   "outputs": [],
   "source": [
    "Question 6: Write a Python program to create a dictionary with student names as keys and their grades as values.\n",
    "Sample Input: students = ['John', 'Alice', 'Bob'], grades = [90, 85, 95]\n",
    "\n",
    "Sample Output: {'John': 90, 'Alice': 85, 'Bob': 95}"
   ]
  },
  {
   "cell_type": "code",
   "execution_count": 6,
   "id": "980f9d23-7314-4f10-859c-a56a161b5539",
   "metadata": {},
   "outputs": [
    {
     "data": {
      "text/plain": [
       "{'John': 90, 'Alice': 85, 'Bob': 95}"
      ]
     },
     "execution_count": 6,
     "metadata": {},
     "output_type": "execute_result"
    }
   ],
   "source": [
    "students = ['John', 'Alice', 'Bob']\n",
    "grades = [90, 85, 95]\n",
    "\n",
    "student_grades = dict(zip(students, grades))\n",
    "student_grades"
   ]
  },
  {
   "cell_type": "code",
   "execution_count": null,
   "id": "d8b3b2d3-cfb3-47de-8dbd-492af9eeca5f",
   "metadata": {},
   "outputs": [],
   "source": [
    "We use the zip function to pair student names with their grades and then convert the result into a dictionary using dict()."
   ]
  },
  {
   "cell_type": "code",
   "execution_count": null,
   "id": "af5c702f-a9cd-4e5a-8116-1113c914113b",
   "metadata": {},
   "outputs": [],
   "source": []
  },
  {
   "cell_type": "code",
   "execution_count": null,
   "id": "d2e44440-5f17-471c-8163-6422351de42f",
   "metadata": {},
   "outputs": [],
   "source": [
    "Question 7: What is the output of the following code?\n",
    "Code:\n",
    "numbers = [1, 2, 3, 4, 5]\n",
    "print(numbers[1:3])\n",
    "Sample Output: [2, 3]"
   ]
  },
  {
   "cell_type": "code",
   "execution_count": 7,
   "id": "57576318-4888-4f49-8dff-4ad5e94e75bb",
   "metadata": {},
   "outputs": [
    {
     "data": {
      "text/plain": [
       "[2, 3]"
      ]
     },
     "execution_count": 7,
     "metadata": {},
     "output_type": "execute_result"
    }
   ],
   "source": [
    "numbers = [1, 2, 3, 4, 5]\n",
    "numbers[1:3]"
   ]
  },
  {
   "cell_type": "code",
   "execution_count": null,
   "id": "56a55dfc-f1e8-4bc4-801e-11ba4f845562",
   "metadata": {},
   "outputs": [],
   "source": [
    "The slice numbers[1:3] extracts the elements at index 1 and 2, which are 2 and 3."
   ]
  },
  {
   "cell_type": "code",
   "execution_count": null,
   "id": "424f17f6-6442-4d6e-b68a-c69f4fd008d2",
   "metadata": {},
   "outputs": [],
   "source": []
  },
  {
   "cell_type": "code",
   "execution_count": null,
   "id": "55d1b908-762c-46e5-8fad-5ad60ebb9ff5",
   "metadata": {},
   "outputs": [],
   "source": [
    "Question 8: Write a Python program to sort a list of numbers in ascending order using the sorted() function.\n",
    "Sample Input: numbers = [4, 2, 9, 6, 5]\n",
    "\n",
    "Sample Output: [2, 4, 5, 6, 9]"
   ]
  },
  {
   "cell_type": "code",
   "execution_count": 8,
   "id": "72a611fd-ef6f-40f8-ac50-2286a748c47a",
   "metadata": {},
   "outputs": [
    {
     "data": {
      "text/plain": [
       "[2, 4, 5, 6, 9]"
      ]
     },
     "execution_count": 8,
     "metadata": {},
     "output_type": "execute_result"
    }
   ],
   "source": [
    "numbers = [4, 2, 9, 6, 5]\n",
    "sorted_numbers = sorted(numbers)\n",
    "sorted_numbers"
   ]
  },
  {
   "cell_type": "code",
   "execution_count": null,
   "id": "8787c642-f169-4cb2-b945-9d9a9f03f69c",
   "metadata": {},
   "outputs": [],
   "source": [
    "The sorted() function returns a new list containing the elements of the original list sorted in ascending order."
   ]
  },
  {
   "cell_type": "code",
   "execution_count": null,
   "id": "7b111e1a-956f-4f0b-8a95-10fea1f1e7f7",
   "metadata": {},
   "outputs": [],
   "source": []
  },
  {
   "cell_type": "code",
   "execution_count": null,
   "id": "45c4e20e-9f29-4b61-92b6-c2ce6b8e28a6",
   "metadata": {},
   "outputs": [],
   "source": [
    "Question 9: What is the output of the following code?\n",
    "fruits = {'apple': 5, 'banana': 10, 'cherry': 15}\n",
    "print(fruits.get('banana'))"
   ]
  },
  {
   "cell_type": "code",
   "execution_count": 9,
   "id": "4796ecaf-0558-4ad7-9ce2-0c4b430edf32",
   "metadata": {},
   "outputs": [
    {
     "data": {
      "text/plain": [
       "10"
      ]
     },
     "execution_count": 9,
     "metadata": {},
     "output_type": "execute_result"
    }
   ],
   "source": [
    "fruits = {'apple': 5, 'banana': 10, 'cherry': 15}\n",
    "fruits.get('banana')"
   ]
  },
  {
   "cell_type": "code",
   "execution_count": null,
   "id": "07217ea1-652b-4eee-b828-3f2c9830f76a",
   "metadata": {},
   "outputs": [],
   "source": [
    "The get() method is used to access the value associated with the key 'banana' in the dictionary, which is 10."
   ]
  },
  {
   "cell_type": "code",
   "execution_count": null,
   "id": "295eb987-4cd0-4bfc-9382-20fed983ef67",
   "metadata": {},
   "outputs": [],
   "source": []
  },
  {
   "cell_type": "code",
   "execution_count": null,
   "id": "fdf4d9d3-b947-46e1-9507-d9d7e3340de1",
   "metadata": {},
   "outputs": [],
   "source": [
    "Question 10: Write a Python program to create a list of squares of all numbers from 1 to 10 using a list comprehension.\n",
    "Sample Output: [1, 4, 9, 16, 25, 36, 49, 64, 81, 100]"
   ]
  },
  {
   "cell_type": "code",
   "execution_count": 10,
   "id": "9e50904e-f79b-4759-9bef-c575ba9b1e53",
   "metadata": {},
   "outputs": [
    {
     "data": {
      "text/plain": [
       "[1, 4, 9, 16, 25, 36, 49, 64, 81, 100]"
      ]
     },
     "execution_count": 10,
     "metadata": {},
     "output_type": "execute_result"
    }
   ],
   "source": [
    "squares = [x**2 for x in range(1, 11)]\n",
    "squares"
   ]
  },
  {
   "cell_type": "code",
   "execution_count": null,
   "id": "b087250e-935c-433c-a94e-2a0d8a222642",
   "metadata": {},
   "outputs": [],
   "source": [
    " We use list comprehension to iterate over numbers from 1 to 10 and compute their squares."
   ]
  },
  {
   "cell_type": "code",
   "execution_count": null,
   "id": "fc8c4401-b48b-482a-a70f-7d2f18d90f49",
   "metadata": {},
   "outputs": [],
   "source": []
  },
  {
   "cell_type": "code",
   "execution_count": null,
   "id": "6d67baad-71e0-43cd-bdd8-0388fc46468d",
   "metadata": {},
   "outputs": [],
   "source": [
    "Section 3: Advanced Topics"
   ]
  },
  {
   "cell_type": "code",
   "execution_count": null,
   "id": "6463410b-85a0-419d-8152-f050f7bcbeb8",
   "metadata": {},
   "outputs": [],
   "source": [
    "Question 11: Write a Python program to calculate the factorial of a number using recursion.\n",
    "Sample Input: num = 5\n",
    "\n",
    "Sample Output: 120"
   ]
  },
  {
   "cell_type": "code",
   "execution_count": 11,
   "id": "0660e7ab-122d-42b2-9351-798e68c72087",
   "metadata": {},
   "outputs": [
    {
     "data": {
      "text/plain": [
       "120"
      ]
     },
     "execution_count": 11,
     "metadata": {},
     "output_type": "execute_result"
    }
   ],
   "source": [
    "def factorial(n):\n",
    "    if n == 0 or n == 1:\n",
    "        return 1\n",
    "    else:\n",
    "        return n * factorial(n-1)\n",
    "\n",
    "factorial(5)"
   ]
  },
  {
   "cell_type": "code",
   "execution_count": null,
   "id": "c98376cd-055d-49db-ba0c-4c866e3f64e7",
   "metadata": {},
   "outputs": [],
   "source": [
    "The factorial() function uses recursion to calculate the factorial of a number. The base case is when n is 0 or 1, where the factorial is 1."
   ]
  },
  {
   "cell_type": "code",
   "execution_count": null,
   "id": "36757969-41de-4cd3-b963-c4d509e4a73d",
   "metadata": {},
   "outputs": [],
   "source": []
  },
  {
   "cell_type": "code",
   "execution_count": null,
   "id": "3711f5ed-d2c0-450c-b237-d1b164e080f8",
   "metadata": {},
   "outputs": [],
   "source": [
    "Question 12: What is the output of the following code?\n",
    "numbers = [1, 2, 3, 4, 5]\n",
    "print(list(reversed(numbers)))\n",
    "Sample Output: [5, 4, 3, 2, 1]"
   ]
  },
  {
   "cell_type": "code",
   "execution_count": 12,
   "id": "502fdfe4-d447-4e96-80c0-e1c8767beb4c",
   "metadata": {},
   "outputs": [
    {
     "data": {
      "text/plain": [
       "[5, 4, 3, 2, 1]"
      ]
     },
     "execution_count": 12,
     "metadata": {},
     "output_type": "execute_result"
    }
   ],
   "source": [
    "numbers = [1, 2, 3, 4, 5]\n",
    "list(reversed(numbers))"
   ]
  },
  {
   "cell_type": "code",
   "execution_count": null,
   "id": "4484edd2-279a-4235-9cbc-434afd02f2fd",
   "metadata": {},
   "outputs": [],
   "source": [
    "The reversed() function returns an iterator that iterates through the list in reverse order, and list() is used to convert the iterator into a list."
   ]
  },
  {
   "cell_type": "code",
   "execution_count": null,
   "id": "8c44c933-66d4-44cd-b9cf-7f3697878b2a",
   "metadata": {},
   "outputs": [],
   "source": []
  },
  {
   "cell_type": "code",
   "execution_count": null,
   "id": "886a81f5-baf5-45e2-90de-2b1afe183909",
   "metadata": {},
   "outputs": [],
   "source": [
    "Question 13: Write a Python program to create a generator that yields the Fibonacci sequence up to the nth term.\n",
    "Sample Input: n = 10\n",
    "\n",
    "Sample Output: [0, 1, 1, 2, 3, 5, 8, 13, 21, 34]"
   ]
  },
  {
   "cell_type": "code",
   "execution_count": 13,
   "id": "808604a5-a42c-4760-8bc3-352fd45eb097",
   "metadata": {},
   "outputs": [
    {
     "data": {
      "text/plain": [
       "[0, 1, 1, 2, 3, 5, 8, 13, 21, 34]"
      ]
     },
     "execution_count": 13,
     "metadata": {},
     "output_type": "execute_result"
    }
   ],
   "source": [
    "def fibonacci(n):\n",
    "    a, b = 0, 1\n",
    "    for _ in range(n):\n",
    "        yield a\n",
    "        a, b = b, a + b\n",
    "\n",
    "list(fibonacci(10))"
   ]
  },
  {
   "cell_type": "code",
   "execution_count": null,
   "id": "9e4da4c4-ac13-4c80-86d6-47cf0abbe788",
   "metadata": {},
   "outputs": [],
   "source": [
    "The fibonacci() function is a generator that yields Fibonacci numbers up to n terms. We use a for loop to generate each Fibonacci number."
   ]
  },
  {
   "cell_type": "code",
   "execution_count": null,
   "id": "8766dcf7-c9c4-4cf4-8ced-b1265e930b89",
   "metadata": {},
   "outputs": [],
   "source": []
  },
  {
   "cell_type": "code",
   "execution_count": null,
   "id": "153f5382-4506-42b1-acd0-7740952f7885",
   "metadata": {},
   "outputs": [],
   "source": [
    "Question 14: What is the output of the following code?\n",
    "import math\n",
    "print(math.pi)\n",
    "Sample Output: 3.14159..."
   ]
  },
  {
   "cell_type": "code",
   "execution_count": 14,
   "id": "cced22d2-7c7b-4cb9-b442-23dfbdb90b36",
   "metadata": {},
   "outputs": [
    {
     "data": {
      "text/plain": [
       "3.141592653589793"
      ]
     },
     "execution_count": 14,
     "metadata": {},
     "output_type": "execute_result"
    }
   ],
   "source": [
    "import math\n",
    "math.pi"
   ]
  },
  {
   "cell_type": "code",
   "execution_count": null,
   "id": "8c34d775-ead2-4f25-9fd7-13defda1d4cd",
   "metadata": {},
   "outputs": [],
   "source": [
    "The math.pi constant provides the value of π (pi), approximately 3.14159...."
   ]
  },
  {
   "cell_type": "code",
   "execution_count": null,
   "id": "8223f804-191a-4c9a-870c-2b605bedabec",
   "metadata": {},
   "outputs": [],
   "source": []
  },
  {
   "cell_type": "code",
   "execution_count": null,
   "id": "6d3ad8e4-57e7-48c0-b2ad-306e7e052cbb",
   "metadata": {},
   "outputs": [],
   "source": [
    "Question 15: Write a Python program to print the inverted star pyramid of height 5."
   ]
  },
  {
   "cell_type": "code",
   "execution_count": 15,
   "id": "e7e0bd9f-d6f0-4d49-b1c9-37cbfc54028b",
   "metadata": {},
   "outputs": [
    {
     "name": "stdout",
     "output_type": "stream",
     "text": [
      "*********\n",
      " *******\n",
      "  *****\n",
      "   ***\n",
      "    *\n"
     ]
    }
   ],
   "source": [
    "height = 5\n",
    "for i in range(height, 0, -1):\n",
    "    print(' ' * (height - i) + '*' * (2 * i - 1))"
   ]
  },
  {
   "cell_type": "code",
   "execution_count": null,
   "id": "bd7a96e7-e8da-494e-addc-cb485eeb91a1",
   "metadata": {},
   "outputs": [],
   "source": [
    "The program prints a star pyramid in reverse. The outer loop controls the number of rows, and for each row, spaces and stars are printed accordingly."
   ]
  }
 ],
 "metadata": {
  "kernelspec": {
   "display_name": "Python 3 (ipykernel)",
   "language": "python",
   "name": "python3"
  },
  "language_info": {
   "codemirror_mode": {
    "name": "ipython",
    "version": 3
   },
   "file_extension": ".py",
   "mimetype": "text/x-python",
   "name": "python",
   "nbconvert_exporter": "python",
   "pygments_lexer": "ipython3",
   "version": "3.12.7"
  }
 },
 "nbformat": 4,
 "nbformat_minor": 5
}
